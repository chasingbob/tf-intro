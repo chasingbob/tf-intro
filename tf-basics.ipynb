{
 "cells": [
  {
   "cell_type": "code",
   "execution_count": 1,
   "metadata": {
    "collapsed": true
   },
   "outputs": [],
   "source": [
    "import tensorflow as tf\n",
    "import numpy as np"
   ]
  },
  {
   "cell_type": "code",
   "execution_count": 4,
   "metadata": {},
   "outputs": [
    {
     "name": "stdout",
     "output_type": "stream",
     "text": [
      "1.1.0\n",
      "var_a: 10 + var_b: 20 = 30\n"
     ]
    }
   ],
   "source": [
    "print(tf.__version__)\n",
    "\n",
    "# tensors\n",
    "var_a = tf.Variable(5, name='var_a')\n",
    "var_b = tf.Variable(10, name='var_b')\n",
    "\n",
    "with tf.name_scope(\"op_add\") as scope:\n",
    "    op_add = var_a + var_b\n",
    "    \n",
    "op_init = tf.global_variables_initializer()\n",
    "\n",
    "# create session \n",
    "with tf.Session() as sess:\n",
    "    op_init.run()\n",
    "    writer = tf.summary.FileWriter(\"logs\", sess.graph)\n",
    "    print('var_a: 10 + var_b: 20 = {}'.format(sess.run(op_add, feed_dict={var_a: 10, var_b: 20})))\n",
    "    \n",
    "    writer.close()"
   ]
  },
  {
   "cell_type": "code",
   "execution_count": 3,
   "metadata": {},
   "outputs": [
    {
     "name": "stdout",
     "output_type": "stream",
     "text": [
      "[array([ 0.,  9.], dtype=float32)]\n",
      "[array([  1.,  16.], dtype=float32)]\n",
      "[array([  4.,  25.], dtype=float32)]\n",
      "[array([  9.,  36.], dtype=float32)]\n",
      "[array([ 16.,  49.], dtype=float32)]\n"
     ]
    }
   ],
   "source": [
    "# Feeds input tensors -> OP -> output tensor\n",
    "\n",
    "# Placeholders\n",
    "input1 = tf.placeholder(tf.float32)\n",
    "input2 = tf.placeholder(tf.float32)\n",
    "\n",
    "with tf.name_scope('multiply_op') as scope:\n",
    "    output = tf.multiply(input1, input2)\n",
    "\n",
    "with tf.Session() as sess:\n",
    "    writer = tf.summary.FileWriter('logs', sess.graph)\n",
    "    for x in range(5):\n",
    "        print(sess.run([output], feed_dict={input1:np.array([x, x+1]), input2:np.array([x, x+1])}))\n",
    "        \n",
    "    writer.close()\n",
    "    "
   ]
  },
  {
   "cell_type": "code",
   "execution_count": null,
   "metadata": {
    "collapsed": true
   },
   "outputs": [],
   "source": [
    "# Iris example\n",
    "\n",
    "# Load the data"
   ]
  },
  {
   "cell_type": "code",
   "execution_count": null,
   "metadata": {
    "collapsed": true
   },
   "outputs": [],
   "source": [
    "# graphs\n",
    "\n",
    "# Show tensorboard"
   ]
  },
  {
   "cell_type": "code",
   "execution_count": null,
   "metadata": {
    "collapsed": true
   },
   "outputs": [],
   "source": [
    "# variables"
   ]
  },
  {
   "cell_type": "code",
   "execution_count": null,
   "metadata": {
    "collapsed": true
   },
   "outputs": [],
   "source": [
    "# placeholders"
   ]
  },
  {
   "cell_type": "code",
   "execution_count": null,
   "metadata": {
    "collapsed": true
   },
   "outputs": [],
   "source": [
    "# sessions"
   ]
  },
  {
   "cell_type": "code",
   "execution_count": null,
   "metadata": {
    "collapsed": true
   },
   "outputs": [],
   "source": [
    "# example"
   ]
  }
 ],
 "metadata": {
  "kernelspec": {
   "display_name": "Python 3",
   "language": "python",
   "name": "python3"
  },
  "language_info": {
   "codemirror_mode": {
    "name": "ipython",
    "version": 3
   },
   "file_extension": ".py",
   "mimetype": "text/x-python",
   "name": "python",
   "nbconvert_exporter": "python",
   "pygments_lexer": "ipython3",
   "version": "3.5.2"
  }
 },
 "nbformat": 4,
 "nbformat_minor": 2
}
